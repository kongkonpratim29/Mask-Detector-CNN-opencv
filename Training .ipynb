{
 "cells": [
  {
   "attachments": {},
   "cell_type": "markdown",
   "metadata": {},
   "source": []
  },
  {
   "cell_type": "code",
   "execution_count": 12,
   "metadata": {},
   "outputs": [],
   "source": [
    "import numpy as np\n",
    "\n",
    "data=np.load('C:\\\\Users\\\\kongkon\\\\Desktop\\\\data.npy')\n",
    "target=np.load('C:\\\\Users\\\\kongkon\\\\Desktop\\\\target.npy')\n",
    "\n",
    "#loading the save numpy arrays in the previous code"
   ]
  },
  {
   "cell_type": "code",
   "execution_count": 6,
   "metadata": {},
   "outputs": [],
   "source": [
    "from keras.models import Sequential\n",
    "from keras.layers import Dense,Activation,Flatten,Dropout\n",
    "from keras.layers import Conv2D,MaxPooling2D\n",
    "from keras.callbacks import ModelCheckpoint\n",
    "\n",
    "model=Sequential()\n",
    "\n",
    "model.add(Conv2D(200,(3,3),input_shape=data.shape[1:]))\n",
    "model.add(Activation('relu'))\n",
    "model.add(MaxPooling2D(pool_size=(2,2)))\n",
    "#The first CNN layer followed by Relu and MaxPooling layers\n",
    "\n",
    "model.add(Conv2D(100,(3,3)))\n",
    "model.add(Activation('relu'))\n",
    "model.add(MaxPooling2D(pool_size=(2,2)))\n",
    "#The second convolution layer followed by Relu and MaxPooling layers\n",
    "\n",
    "model.add(Flatten())\n",
    "model.add(Dropout(0.5))\n",
    "#Flatten layer to stack the output convolutions from second convolution layer\n",
    "model.add(Dense(50,activation='relu'))\n",
    "#Dense layer of 64 neurons\n",
    "model.add(Dense(2,activation='softmax'))\n",
    "#The Final layer with two outputs for two categories\n",
    "\n",
    "model.compile(loss='categorical_crossentropy',optimizer='adam',metrics=['accuracy'])"
   ]
  },
  {
   "cell_type": "code",
   "execution_count": 7,
   "metadata": {},
   "outputs": [],
   "source": [
    "from sklearn.model_selection import train_test_split\n",
    "\n",
    "train_data,test_data,train_target,test_target=train_test_split(data,target,test_size=0.1)"
   ]
  },
  {
   "cell_type": "code",
   "execution_count": 8,
   "metadata": {},
   "outputs": [
    {
     "name": "stdout",
     "output_type": "stream",
     "text": [
      "Train on 990 samples, validate on 248 samples\n",
      "Epoch 1/20\n",
      "990/990 [==============================] - 45s 46ms/step - loss: 0.6997 - accuracy: 0.5596 - val_loss: 0.6112 - val_accuracy: 0.6653\n",
      "Epoch 2/20\n",
      "990/990 [==============================] - 44s 44ms/step - loss: 0.5280 - accuracy: 0.7424 - val_loss: 0.4422 - val_accuracy: 0.8347\n",
      "Epoch 3/20\n",
      "990/990 [==============================] - 45s 45ms/step - loss: 0.4065 - accuracy: 0.8283 - val_loss: 0.4557 - val_accuracy: 0.8266\n",
      "Epoch 4/20\n",
      "990/990 [==============================] - 50s 50ms/step - loss: 0.2876 - accuracy: 0.8879 - val_loss: 0.3082 - val_accuracy: 0.8790\n",
      "Epoch 5/20\n",
      "990/990 [==============================] - 49s 49ms/step - loss: 0.1883 - accuracy: 0.9313 - val_loss: 0.3454 - val_accuracy: 0.8548\n",
      "Epoch 6/20\n",
      "990/990 [==============================] - 48s 48ms/step - loss: 0.1572 - accuracy: 0.9465 - val_loss: 0.2505 - val_accuracy: 0.9153\n",
      "Epoch 7/20\n",
      "990/990 [==============================] - 43s 43ms/step - loss: 0.1127 - accuracy: 0.9596 - val_loss: 0.2368 - val_accuracy: 0.9032\n",
      "Epoch 8/20\n",
      "990/990 [==============================] - 46s 47ms/step - loss: 0.0850 - accuracy: 0.9717 - val_loss: 0.2095 - val_accuracy: 0.9234\n",
      "Epoch 9/20\n",
      "990/990 [==============================] - 49s 50ms/step - loss: 0.0825 - accuracy: 0.9687 - val_loss: 0.1931 - val_accuracy: 0.9274\n",
      "Epoch 10/20\n",
      "990/990 [==============================] - 50s 50ms/step - loss: 0.0687 - accuracy: 0.9747 - val_loss: 0.2395 - val_accuracy: 0.9113\n",
      "Epoch 11/20\n",
      "990/990 [==============================] - 46s 46ms/step - loss: 0.0333 - accuracy: 0.9889 - val_loss: 0.1874 - val_accuracy: 0.9315\n",
      "Epoch 12/20\n",
      "990/990 [==============================] - 50s 50ms/step - loss: 0.0349 - accuracy: 0.9889 - val_loss: 0.3189 - val_accuracy: 0.9153\n",
      "Epoch 13/20\n",
      "990/990 [==============================] - 51s 52ms/step - loss: 0.0448 - accuracy: 0.9848 - val_loss: 0.3457 - val_accuracy: 0.8790\n",
      "Epoch 14/20\n",
      "990/990 [==============================] - 52s 52ms/step - loss: 0.0432 - accuracy: 0.9859 - val_loss: 0.1849 - val_accuracy: 0.9435\n",
      "Epoch 15/20\n",
      "990/990 [==============================] - 55s 55ms/step - loss: 0.0168 - accuracy: 0.9960 - val_loss: 0.1988 - val_accuracy: 0.9476\n",
      "Epoch 16/20\n",
      "990/990 [==============================] - 51s 52ms/step - loss: 0.0389 - accuracy: 0.9818 - val_loss: 0.2097 - val_accuracy: 0.9355\n",
      "Epoch 17/20\n",
      "990/990 [==============================] - 55s 55ms/step - loss: 0.0238 - accuracy: 0.9909 - val_loss: 0.2777 - val_accuracy: 0.9274\n",
      "Epoch 18/20\n",
      "990/990 [==============================] - 58s 59ms/step - loss: 0.0221 - accuracy: 0.9929 - val_loss: 0.2907 - val_accuracy: 0.9194\n",
      "Epoch 19/20\n",
      "990/990 [==============================] - 52s 52ms/step - loss: 0.0192 - accuracy: 0.9949 - val_loss: 0.1561 - val_accuracy: 0.9516\n",
      "Epoch 20/20\n",
      "990/990 [==============================] - 54s 54ms/step - loss: 0.0236 - accuracy: 0.9939 - val_loss: 0.2418 - val_accuracy: 0.9476\n"
     ]
    }
   ],
   "source": [
    "checkpoint = ModelCheckpoint('model-{epoch:03d}.model',monitor='val_loss',verbose=0,save_best_only=True,mode='auto')\n",
    "history=model.fit(train_data,train_target,epochs=20,callbacks=[checkpoint],validation_split=0.2)"
   ]
  },
  {
   "cell_type": "code",
   "execution_count": 9,
   "metadata": {},
   "outputs": [
    {
     "data": {
      "text/plain": [
       "<Figure size 640x480 with 1 Axes>"
      ]
     },
     "metadata": {},
     "output_type": "display_data"
    }
   ],
   "source": [
    "from matplotlib import pyplot as plt\n",
    "\n",
    "plt.plot(history.history['loss'],'r',label='training loss')\n",
    "plt.plot(history.history['val_loss'],label='validation loss')\n",
    "plt.xlabel('# epochs')\n",
    "plt.ylabel('loss')\n",
    "plt.legend()\n",
    "plt.show()"
   ]
  },
  {
   "cell_type": "code",
   "execution_count": 10,
   "metadata": {},
   "outputs": [
    {
     "data": {
      "image/png": "[encoded data removed]",
      "text/plain": [
       "<Figure size 432x288 with 1 Axes>"
      ]
     },
     "metadata": {
      "needs_background": "light"
     },
     "output_type": "display_data"
    }
   ],
   "source": [
    "plt.plot(history.history['accuracy'],'r',label='training accuracy')\n",
    "plt.plot(history.history['val_accuracy'],label='validation accuracy')\n",
    "plt.xlabel('# epochs')\n",
    "plt.ylabel('loss')\n",
    "plt.legend()\n",
    "plt.show()"
   ]
  },
  {
   "cell_type": "code",
   "execution_count": 11,
   "metadata": {},
   "outputs": [
    {
     "name": "stdout",
     "output_type": "stream",
     "text": [
      "138/138 [==============================] - 3s 23ms/step\n",
      "[0.2018672832544299, 0.9202898740768433]\n"
     ]
    }
   ],
   "source": [
    "print(model.evaluate(test_data,test_target))"
   ]
  },
  {
   "cell_type": "code",
   "execution_count": null,
   "metadata": {},
   "outputs": [],
   "source": []
  }
 ],
 "metadata": {
  "kernelspec": {
   "display_name": "Python 3",
   "language": "python",
   "name": "python3"
  },
  "language_info": {
   "codemirror_mode": {
    "name": "ipython",
    "version": 3
   },
   "file_extension": ".py",
   "mimetype": "text/x-python",
   "name": "python",
   "nbconvert_exporter": "python",
   "pygments_lexer": "ipython3",
   "version": "3.7.4"
  }
 },
 "nbformat": 4,
 "nbformat_minor": 2
}
